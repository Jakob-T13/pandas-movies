{
 "cells": [
  {
   "cell_type": "code",
   "execution_count": 1,
   "id": "00124d3f",
   "metadata": {},
   "outputs": [
    {
     "data": {
      "text/plain": [
       "'1.3.4'"
      ]
     },
     "execution_count": 1,
     "metadata": {},
     "output_type": "execute_result"
    }
   ],
   "source": [
    "import pandas as pd\n",
    "pd.__version__"
   ]
  },
  {
   "cell_type": "code",
   "execution_count": 2,
   "id": "23b4bdd7",
   "metadata": {},
   "outputs": [],
   "source": [
    "#open movies csv\n",
    "movies = pd.read_csv('wiki_movie_plots_deduped.csv')"
   ]
  },
  {
   "cell_type": "code",
   "execution_count": 3,
   "id": "8b68dd7b",
   "metadata": {},
   "outputs": [
    {
     "data": {
      "text/plain": [
       "(34886, 8)"
      ]
     },
     "execution_count": 3,
     "metadata": {},
     "output_type": "execute_result"
    }
   ],
   "source": [
    "#get number of rows and columns\n",
    "movies.shape"
   ]
  },
  {
   "cell_type": "code",
   "execution_count": 4,
   "id": "488fd853",
   "metadata": {},
   "outputs": [
    {
     "data": {
      "text/plain": [
       "Index(['Release Year', 'Title', 'Origin/Ethnicity', 'Director', 'Cast',\n",
       "       'Genre', 'Wiki Page', 'Plot'],\n",
       "      dtype='object')"
      ]
     },
     "execution_count": 4,
     "metadata": {},
     "output_type": "execute_result"
    }
   ],
   "source": [
    "#get column names\n",
    "movies.columns"
   ]
  },
  {
   "cell_type": "code",
   "execution_count": 5,
   "id": "abed7051",
   "metadata": {},
   "outputs": [
    {
     "name": "stdout",
     "output_type": "stream",
     "text": [
      "<class 'pandas.core.frame.DataFrame'>\n",
      "RangeIndex: 34886 entries, 0 to 34885\n",
      "Data columns (total 8 columns):\n",
      " #   Column            Non-Null Count  Dtype \n",
      "---  ------            --------------  ----- \n",
      " 0   Release Year      34886 non-null  int64 \n",
      " 1   Title             34886 non-null  object\n",
      " 2   Origin/Ethnicity  34886 non-null  object\n",
      " 3   Director          34886 non-null  object\n",
      " 4   Cast              33464 non-null  object\n",
      " 5   Genre             34886 non-null  object\n",
      " 6   Wiki Page         34886 non-null  object\n",
      " 7   Plot              34886 non-null  object\n",
      "dtypes: int64(1), object(7)\n",
      "memory usage: 2.1+ MB\n"
     ]
    }
   ],
   "source": [
    "#get general information\n",
    "movies.info()"
   ]
  },
  {
   "cell_type": "code",
   "execution_count": 6,
   "id": "71401ca0",
   "metadata": {},
   "outputs": [
    {
     "name": "stdout",
     "output_type": "stream",
     "text": [
      "       Release Year               Title Origin/Ethnicity  \\\n",
      "34878          2014    Mandıra Filozofu          Turkish   \n",
      "34879          2014        Winter Sleep          Turkish   \n",
      "34880          2014               Sivas          Turkish   \n",
      "34881          2014   The Water Diviner          Turkish   \n",
      "34882          2017  Çalgı Çengi İkimiz          Turkish   \n",
      "34883          2017        Olanlar Oldu          Turkish   \n",
      "34884          2017    Non-Transferable          Turkish   \n",
      "34885          2017  İstanbul Kırmızısı          Turkish   \n",
      "\n",
      "                          Director  \\\n",
      "34878  Director: Müfit Can Saçıntı   \n",
      "34879  Director: Nuri Bilge Ceylan   \n",
      "34880       Director: Kaan Müjdeci   \n",
      "34881      Director: Russell Crowe   \n",
      "34882               Selçuk Aydemir   \n",
      "34883                  Hakan Algül   \n",
      "34884              Brendan Bradley   \n",
      "34885               Ferzan Özpetek   \n",
      "\n",
      "                                                    Cast            Genre  \\\n",
      "34878  Director: Müfit Can Saçıntı\\r\\nCast: Rasim Özt...          unknown   \n",
      "34879  Director: Nuri Bilge Ceylan\\r\\nCast: Haluk Bil...          unknown   \n",
      "34880         Director: Kaan Müjdeci\\r\\nCast: Dogan Izci          unknown   \n",
      "34881  Director: Russell Crowe\\r\\nCast: Russell Crowe...          unknown   \n",
      "34882                          Ahmet Kural, Murat Cemcir           comedy   \n",
      "34883              Ata Demirer, Tuvana Türkay, Ülkü Duru           comedy   \n",
      "34884  YouTubers Shanna Malcolm, Shira Lazar, Sara Fl...  romantic comedy   \n",
      "34885  Halit Ergenç, Tuba Büyüküstün, Mehmet Günsür, ...         romantic   \n",
      "\n",
      "                                               Wiki Page  \\\n",
      "34878  https://en.wikipedia.org/wiki/Mand%C4%B1ra_Fil...   \n",
      "34879  https://en.wikipedia.org/wiki/Winter_Sleep_(film)   \n",
      "34880         https://en.wikipedia.org/wiki/Sivas_(film)   \n",
      "34881    https://en.wikipedia.org/wiki/The_Water_Diviner   \n",
      "34882  https://en.wikipedia.org/wiki/%C3%87alg%C4%B1_...   \n",
      "34883         https://en.wikipedia.org/wiki/Olanlar_Oldu   \n",
      "34884  https://en.wikipedia.org/wiki/Non-Transferable...   \n",
      "34885  https://en.wikipedia.org/wiki/%C4%B0stanbul_K%...   \n",
      "\n",
      "                                                    Plot  \n",
      "34878  Cavit an ambitious industralist in İstanbul pl...  \n",
      "34879  Aydın, a former actor, owns a mountaintop hote...  \n",
      "34880  The film follows an eleven-year-old boy named ...  \n",
      "34881  The film begins in 1919, just after World War ...  \n",
      "34882  Two musicians, Salih and Gürkan, described the...  \n",
      "34883  Zafer, a sailor living with his mother Döndü i...  \n",
      "34884  The film centres around a young woman named Am...  \n",
      "34885  The writer Orhan Şahin returns to İstanbul aft...  \n"
     ]
    }
   ],
   "source": [
    "#display bottom 8 entries using an index\n",
    "bottom_eight = movies[-8:]\n",
    "print(bottom_eight)"
   ]
  },
  {
   "cell_type": "code",
   "execution_count": 7,
   "id": "e4e775b3",
   "metadata": {},
   "outputs": [
    {
     "name": "stdout",
     "output_type": "stream",
     "text": [
      "       Release Year               Title Origin/Ethnicity  \\\n",
      "34878          2014    Mandıra Filozofu          Turkish   \n",
      "34879          2014        Winter Sleep          Turkish   \n",
      "34880          2014               Sivas          Turkish   \n",
      "34881          2014   The Water Diviner          Turkish   \n",
      "34882          2017  Çalgı Çengi İkimiz          Turkish   \n",
      "34883          2017        Olanlar Oldu          Turkish   \n",
      "34884          2017    Non-Transferable          Turkish   \n",
      "34885          2017  İstanbul Kırmızısı          Turkish   \n",
      "\n",
      "                          Director  \\\n",
      "34878  Director: Müfit Can Saçıntı   \n",
      "34879  Director: Nuri Bilge Ceylan   \n",
      "34880       Director: Kaan Müjdeci   \n",
      "34881      Director: Russell Crowe   \n",
      "34882               Selçuk Aydemir   \n",
      "34883                  Hakan Algül   \n",
      "34884              Brendan Bradley   \n",
      "34885               Ferzan Özpetek   \n",
      "\n",
      "                                                    Cast            Genre  \\\n",
      "34878  Director: Müfit Can Saçıntı\\r\\nCast: Rasim Özt...          unknown   \n",
      "34879  Director: Nuri Bilge Ceylan\\r\\nCast: Haluk Bil...          unknown   \n",
      "34880         Director: Kaan Müjdeci\\r\\nCast: Dogan Izci          unknown   \n",
      "34881  Director: Russell Crowe\\r\\nCast: Russell Crowe...          unknown   \n",
      "34882                          Ahmet Kural, Murat Cemcir           comedy   \n",
      "34883              Ata Demirer, Tuvana Türkay, Ülkü Duru           comedy   \n",
      "34884  YouTubers Shanna Malcolm, Shira Lazar, Sara Fl...  romantic comedy   \n",
      "34885  Halit Ergenç, Tuba Büyüküstün, Mehmet Günsür, ...         romantic   \n",
      "\n",
      "                                               Wiki Page  \\\n",
      "34878  https://en.wikipedia.org/wiki/Mand%C4%B1ra_Fil...   \n",
      "34879  https://en.wikipedia.org/wiki/Winter_Sleep_(film)   \n",
      "34880         https://en.wikipedia.org/wiki/Sivas_(film)   \n",
      "34881    https://en.wikipedia.org/wiki/The_Water_Diviner   \n",
      "34882  https://en.wikipedia.org/wiki/%C3%87alg%C4%B1_...   \n",
      "34883         https://en.wikipedia.org/wiki/Olanlar_Oldu   \n",
      "34884  https://en.wikipedia.org/wiki/Non-Transferable...   \n",
      "34885  https://en.wikipedia.org/wiki/%C4%B0stanbul_K%...   \n",
      "\n",
      "                                                    Plot  \n",
      "34878  Cavit an ambitious industralist in İstanbul pl...  \n",
      "34879  Aydın, a former actor, owns a mountaintop hote...  \n",
      "34880  The film follows an eleven-year-old boy named ...  \n",
      "34881  The film begins in 1919, just after World War ...  \n",
      "34882  Two musicians, Salih and Gürkan, described the...  \n",
      "34883  Zafer, a sailor living with his mother Döndü i...  \n",
      "34884  The film centres around a young woman named Am...  \n",
      "34885  The writer Orhan Şahin returns to İstanbul aft...  \n"
     ]
    }
   ],
   "source": [
    "#display bottom 8 entries using a function\n",
    "bottom_eight = movies.tail(8)\n",
    "print(bottom_eight)"
   ]
  },
  {
   "cell_type": "code",
   "execution_count": 8,
   "id": "ac790099",
   "metadata": {},
   "outputs": [
    {
     "name": "stdout",
     "output_type": "stream",
     "text": [
      "   Release Year                             Title Origin/Ethnicity  \\\n",
      "0          1901            Kansas Saloon Smashers         American   \n",
      "1          1901     Love by the Light of the Moon         American   \n",
      "2          1901           The Martyred Presidents         American   \n",
      "3          1901  Terrible Teddy, the Grizzly King         American   \n",
      "4          1902            Jack and the Beanstalk         American   \n",
      "\n",
      "                             Director Cast    Genre  \\\n",
      "0                             Unknown  NaN  unknown   \n",
      "1                             Unknown  NaN  unknown   \n",
      "2                             Unknown  NaN  unknown   \n",
      "3                             Unknown  NaN  unknown   \n",
      "4  George S. Fleming, Edwin S. Porter  NaN  unknown   \n",
      "\n",
      "                                           Wiki Page  \\\n",
      "0  https://en.wikipedia.org/wiki/Kansas_Saloon_Sm...   \n",
      "1  https://en.wikipedia.org/wiki/Love_by_the_Ligh...   \n",
      "2  https://en.wikipedia.org/wiki/The_Martyred_Pre...   \n",
      "3  https://en.wikipedia.org/wiki/Terrible_Teddy,_...   \n",
      "4  https://en.wikipedia.org/wiki/Jack_and_the_Bea...   \n",
      "\n",
      "                                                Plot  \n",
      "0  A bartender is working at a saloon, serving dr...  \n",
      "1  The moon, painted with a smiling face hangs ov...  \n",
      "2  The film, just over a minute long, is composed...  \n",
      "3  Lasting just 61 seconds and consisting of two ...  \n",
      "4  The earliest known adaptation of the classic f...  \n"
     ]
    }
   ],
   "source": [
    "#display top 5 entries using indexes\n",
    "top_five = movies[:5]\n",
    "print(top_five)"
   ]
  },
  {
   "cell_type": "code",
   "execution_count": 9,
   "id": "89762f33",
   "metadata": {},
   "outputs": [
    {
     "name": "stdout",
     "output_type": "stream",
     "text": [
      "   Release Year                             Title Origin/Ethnicity  \\\n",
      "0          1901            Kansas Saloon Smashers         American   \n",
      "1          1901     Love by the Light of the Moon         American   \n",
      "2          1901           The Martyred Presidents         American   \n",
      "3          1901  Terrible Teddy, the Grizzly King         American   \n",
      "4          1902            Jack and the Beanstalk         American   \n",
      "\n",
      "                             Director Cast    Genre  \\\n",
      "0                             Unknown  NaN  unknown   \n",
      "1                             Unknown  NaN  unknown   \n",
      "2                             Unknown  NaN  unknown   \n",
      "3                             Unknown  NaN  unknown   \n",
      "4  George S. Fleming, Edwin S. Porter  NaN  unknown   \n",
      "\n",
      "                                           Wiki Page  \\\n",
      "0  https://en.wikipedia.org/wiki/Kansas_Saloon_Sm...   \n",
      "1  https://en.wikipedia.org/wiki/Love_by_the_Ligh...   \n",
      "2  https://en.wikipedia.org/wiki/The_Martyred_Pre...   \n",
      "3  https://en.wikipedia.org/wiki/Terrible_Teddy,_...   \n",
      "4  https://en.wikipedia.org/wiki/Jack_and_the_Bea...   \n",
      "\n",
      "                                                Plot  \n",
      "0  A bartender is working at a saloon, serving dr...  \n",
      "1  The moon, painted with a smiling face hangs ov...  \n",
      "2  The film, just over a minute long, is composed...  \n",
      "3  Lasting just 61 seconds and consisting of two ...  \n",
      "4  The earliest known adaptation of the classic f...  \n"
     ]
    }
   ],
   "source": [
    "#display top 5 entries using a function\n",
    "top_five = movies.head(5)\n",
    "print(top_five)"
   ]
  },
  {
   "cell_type": "code",
   "execution_count": 10,
   "id": "c5161d1a",
   "metadata": {},
   "outputs": [
    {
     "name": "stdout",
     "output_type": "stream",
     "text": [
      "     Genre\n",
      "0  unknown\n",
      "1  unknown\n",
      "2  unknown\n",
      "3  unknown\n",
      "4  unknown\n"
     ]
    }
   ],
   "source": [
    "#list top 5 genres\n",
    "genres = movies[['Genre']]\n",
    "print(genres.head(5))"
   ]
  },
  {
   "cell_type": "code",
   "execution_count": 11,
   "id": "6c061dce",
   "metadata": {},
   "outputs": [
    {
     "name": "stdout",
     "output_type": "stream",
     "text": [
      "                             Director\n",
      "0                             Unknown\n",
      "1                             Unknown\n",
      "2                             Unknown\n",
      "3                             Unknown\n",
      "4  George S. Fleming, Edwin S. Porter\n"
     ]
    }
   ],
   "source": [
    "#list top 5 directors\n",
    "directors = movies[['Director']]\n",
    "print(directors.head(5))"
   ]
  },
  {
   "cell_type": "code",
   "execution_count": 12,
   "id": "aaf32079",
   "metadata": {},
   "outputs": [
    {
     "data": {
      "text/plain": [
       "Origin/Ethnicity\n",
       "American            17377\n",
       "British              3670\n",
       "Bollywood            2931\n",
       "Tamil                2599\n",
       "Telugu               1311\n",
       "Japanese             1188\n",
       "Malayalam            1095\n",
       "Hong Kong             791\n",
       "Canadian              723\n",
       "Australian            576\n",
       "South_Korean          522\n",
       "Chinese               463\n",
       "Kannada               444\n",
       "Bengali               306\n",
       "Russian               232\n",
       "Marathi               141\n",
       "Filipino              128\n",
       "Bangladeshi            87\n",
       "Punjabi                84\n",
       "Malaysian              70\n",
       "Turkish                70\n",
       "Egyptian               67\n",
       "Assamese                9\n",
       "Maldivian               2\n",
       "dtype: int64"
      ]
     },
     "execution_count": 12,
     "metadata": {},
     "output_type": "execute_result"
    }
   ],
   "source": [
    "#display counts for origin/ethnicity\n",
    "origineth = movies[['Origin/Ethnicity']]\n",
    "origineth.value_counts()"
   ]
  },
  {
   "cell_type": "code",
   "execution_count": 14,
   "id": "0da15922",
   "metadata": {},
   "outputs": [
    {
     "data": {
      "text/html": [
       "<div>\n",
       "<style scoped>\n",
       "    .dataframe tbody tr th:only-of-type {\n",
       "        vertical-align: middle;\n",
       "    }\n",
       "\n",
       "    .dataframe tbody tr th {\n",
       "        vertical-align: top;\n",
       "    }\n",
       "\n",
       "    .dataframe thead th {\n",
       "        text-align: right;\n",
       "    }\n",
       "</style>\n",
       "<table border=\"1\" class=\"dataframe\">\n",
       "  <thead>\n",
       "    <tr style=\"text-align: right;\">\n",
       "      <th></th>\n",
       "      <th>Title</th>\n",
       "    </tr>\n",
       "  </thead>\n",
       "  <tbody>\n",
       "    <tr>\n",
       "      <th>27</th>\n",
       "      <td>A Christmas Carol</td>\n",
       "    </tr>\n",
       "    <tr>\n",
       "      <th>55</th>\n",
       "      <td>Dr. Jekyll and Mr. Hyde</td>\n",
       "    </tr>\n",
       "    <tr>\n",
       "      <th>85</th>\n",
       "      <td>Laughing Gas</td>\n",
       "    </tr>\n",
       "    <tr>\n",
       "      <th>240</th>\n",
       "      <td>The Squaw Man</td>\n",
       "    </tr>\n",
       "    <tr>\n",
       "      <th>286</th>\n",
       "      <td>Nine-Tenths of the Law</td>\n",
       "    </tr>\n",
       "    <tr>\n",
       "      <th>...</th>\n",
       "      <td>...</td>\n",
       "    </tr>\n",
       "    <tr>\n",
       "      <th>34812</th>\n",
       "      <td>Forgotten</td>\n",
       "    </tr>\n",
       "    <tr>\n",
       "      <th>34852</th>\n",
       "      <td>Honey</td>\n",
       "    </tr>\n",
       "    <tr>\n",
       "      <th>34853</th>\n",
       "      <td>Black and White</td>\n",
       "    </tr>\n",
       "    <tr>\n",
       "      <th>34858</th>\n",
       "      <td>The Crossing</td>\n",
       "    </tr>\n",
       "    <tr>\n",
       "      <th>34871</th>\n",
       "      <td>Merry-Go-Round</td>\n",
       "    </tr>\n",
       "  </tbody>\n",
       "</table>\n",
       "<p>2454 rows × 1 columns</p>\n",
       "</div>"
      ],
      "text/plain": [
       "                         Title\n",
       "27           A Christmas Carol\n",
       "55     Dr. Jekyll and Mr. Hyde\n",
       "85                Laughing Gas\n",
       "240              The Squaw Man\n",
       "286     Nine-Tenths of the Law\n",
       "...                        ...\n",
       "34812                Forgotten\n",
       "34852                    Honey\n",
       "34853          Black and White\n",
       "34858             The Crossing\n",
       "34871           Merry-Go-Round\n",
       "\n",
       "[2454 rows x 1 columns]"
      ]
     },
     "execution_count": 14,
     "metadata": {},
     "output_type": "execute_result"
    }
   ],
   "source": [
    "#find duplicate titles\n",
    "titles = movies[['Title']]\n",
    "duplicate_titles = titles[titles.duplicated()]\n",
    "duplicate_titles"
   ]
  },
  {
   "cell_type": "code",
   "execution_count": 15,
   "id": "97463982",
   "metadata": {},
   "outputs": [
    {
     "data": {
      "text/plain": [
       "(2013,)"
      ]
     },
     "execution_count": 15,
     "metadata": {},
     "output_type": "execute_result"
    }
   ],
   "source": [
    "#get most common year\n",
    "years = movies[['Release Year']]\n",
    "years.value_counts().idxmax()"
   ]
  },
  {
   "cell_type": "code",
   "execution_count": null,
   "id": "d7469155",
   "metadata": {},
   "outputs": [],
   "source": []
  }
 ],
 "metadata": {
  "kernelspec": {
   "display_name": "Python 3 (ipykernel)",
   "language": "python",
   "name": "python3"
  },
  "language_info": {
   "codemirror_mode": {
    "name": "ipython",
    "version": 3
   },
   "file_extension": ".py",
   "mimetype": "text/x-python",
   "name": "python",
   "nbconvert_exporter": "python",
   "pygments_lexer": "ipython3",
   "version": "3.9.7"
  }
 },
 "nbformat": 4,
 "nbformat_minor": 5
}
